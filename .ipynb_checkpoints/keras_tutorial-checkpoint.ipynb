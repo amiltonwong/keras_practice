{
 "cells": [
  {
   "cell_type": "markdown",
   "metadata": {},
   "source": [
    "### Keras Tensorflow tutorial: Practical guide from getting started to developing complex deep neural network\n",
    "http://cv-tricks.com/tensorflow-tutorial/keras"
   ]
  },
  {
   "cell_type": "markdown",
   "metadata": {},
   "source": [
    " edit \"~/.keras/keras.json\" to switch  between tensorflow or theano as backends"
   ]
  },
  {
   "cell_type": "markdown",
   "metadata": {},
   "source": [
    "Keras has two distinct ways of building models\n",
    "1. Sequential model: This is used to implement simple models. You simply keep adding layers to the existing model\n",
    "2. Functional API: To build more complex models using it, models with multiple output, directed acyclic graph etc."
   ]
  },
  {
   "cell_type": "code",
   "execution_count": 1,
   "metadata": {},
   "outputs": [
    {
     "name": "stderr",
     "output_type": "stream",
     "text": [
      "Using TensorFlow backend.\n"
     ]
    }
   ],
   "source": [
    "# start by importing and building a Sequential model.\n",
    "\n",
    "from keras.models import Sequential\n",
    "model = Sequential()"
   ]
  },
  {
   "cell_type": "code",
   "execution_count": 5,
   "metadata": {},
   "outputs": [],
   "source": [
    "# add layers like Dense(fully connected layer), Activation, Conv2D, MaxPooling2D etc \n",
    "# by calling add function.\n",
    "\n",
    "from keras.layers import Dense, Activation,Conv2D,MaxPooling2D,Flatten,Dropout\n",
    "model.add(Conv2D(64, (3, 3), activation='relu', input_shape=(224,224,3)))\n",
    "# This adds a Convolutional layer with 64 filters of size 3 * 3 to the graph"
   ]
  },
  {
   "cell_type": "markdown",
   "metadata": {},
   "source": [
    "#### Specify the optimization process"
   ]
  },
  {
   "cell_type": "code",
   "execution_count": 7,
   "metadata": {
    "collapsed": true
   },
   "outputs": [],
   "source": [
    "# use the ‘rmsprop’ optimizer to change weights in such a way that the loss \n",
    "# binary_crossentropy’ is minimized at each iteration\n",
    "\n",
    "model.compile(loss='binary_crossentropy',\n",
    "              optimizer='rmsprop')"
   ]
  },
  {
   "cell_type": "code",
   "execution_count": 10,
   "metadata": {
    "collapsed": true
   },
   "outputs": [],
   "source": [
    "# If you want to specify stochastic gradient descent and you want to choose proper \n",
    "# initialization and other hyperparameters:\n",
    "\n",
    "from keras.optimizers import SGD\n",
    "\n",
    "\n",
    "sgd = SGD(lr=0.01, decay=1e-6, momentum=0.9, nesterov=True)\n",
    "model.compile(loss='categorical_crossentropy', optimizer='sgd')"
   ]
  },
  {
   "cell_type": "code",
   "execution_count": 9,
   "metadata": {
    "collapsed": true
   },
   "outputs": [],
   "source": [
    "# feed the data to the model via the fit function\n",
    "\n",
    "model.fit(x_train, y_train, batch_size=32, epochs=10, validation_data=(x_val, y_val))"
   ]
  },
  {
   "cell_type": "code",
   "execution_count": null,
   "metadata": {
    "collapsed": true
   },
   "outputs": [],
   "source": [
    "# use the evaluate function to test the model\n",
    "\n",
    "score = model.evaluate(x_test, y_test, batch_size=32)"
   ]
  },
  {
   "cell_type": "markdown",
   "metadata": {},
   "source": [
    "### Solve a linear regression problem with an example\n",
    "For this example, we will create 100 data points and try to fit them into a line.\n",
    "TrainX has values between –1 and 1, and TrainY has 3 times the TrainX and some randomness"
   ]
  },
  {
   "cell_type": "code",
   "execution_count": 11,
   "metadata": {
    "collapsed": true
   },
   "outputs": [],
   "source": [
    "# create training data\n",
    "\n",
    "import keras\n",
    "from keras.models import Sequential\n",
    "from keras.layers import Dense\n",
    "import numpy as np\n",
    " \n",
    "trX = np.linspace(-1, 1, 101)\n",
    "trY = 3 * trX + np.random.randn(*trX.shape) * 0.33"
   ]
  },
  {
   "cell_type": "code",
   "execution_count": 14,
   "metadata": {},
   "outputs": [
    {
     "name": "stderr",
     "output_type": "stream",
     "text": [
      "/root/anaconda3/envs/tf1.1_gpu/lib/python3.5/site-packages/ipykernel_launcher.py:4: UserWarning: Update your `Dense` call to the Keras 2 API: `Dense(kernel_initializer=\"uniform\", activation=\"linear\", units=1, input_dim=1)`\n",
      "  after removing the cwd from sys.path.\n"
     ]
    }
   ],
   "source": [
    "# create model\n",
    "\n",
    "model = Sequential()\n",
    "model.add(Dense(input_dim=1, output_dim=1, init='uniform', activation='linear'))"
   ]
  },
  {
   "cell_type": "code",
   "execution_count": 16,
   "metadata": {},
   "outputs": [
    {
     "name": "stdout",
     "output_type": "stream",
     "text": [
      "Linear regression model is initialized with weights w: -0.01, b: 0.00\n"
     ]
    }
   ],
   "source": [
    "weights = model.layers[0].get_weights()\n",
    "w_init = weights[0][0][0]\n",
    "b_init = weights[1][0]\n",
    "print('Linear regression model is initialized with weights w: %.2f, b: %.2f' % (w_init, b_init)) \n",
    "## Linear regression model is initialized with weight w: -0.01, b: 0.00\n"
   ]
  },
  {
   "cell_type": "code",
   "execution_count": 17,
   "metadata": {
    "collapsed": true
   },
   "outputs": [],
   "source": [
    "# train this linear model with our training data of trX and trY,\n",
    "\n",
    "model.compile(optimizer='sgd', loss='mse')"
   ]
  },
  {
   "cell_type": "code",
   "execution_count": 18,
   "metadata": {},
   "outputs": [
    {
     "name": "stderr",
     "output_type": "stream",
     "text": [
      "/root/anaconda3/envs/tf1.1_gpu/lib/python3.5/site-packages/keras/models.py:837: UserWarning: The `nb_epoch` argument in `fit` has been renamed `epochs`.\n",
      "  warnings.warn('The `nb_epoch` argument in `fit` '\n"
     ]
    },
    {
     "name": "stdout",
     "output_type": "stream",
     "text": [
      "Epoch 1/200\n",
      "101/101 [==============================] - 0s - loss: 3.1561     \n",
      "Epoch 2/200\n",
      "101/101 [==============================] - 0s - loss: 2.9936     \n",
      "Epoch 3/200\n",
      "101/101 [==============================] - 0s - loss: 2.8468     \n",
      "Epoch 4/200\n",
      "101/101 [==============================] - 0s - loss: 2.7084     \n",
      "Epoch 5/200\n",
      "101/101 [==============================] - 0s - loss: 2.5717     \n",
      "Epoch 6/200\n",
      "101/101 [==============================] - 0s - loss: 2.4452     \n",
      "Epoch 7/200\n",
      "101/101 [==============================] - 0s - loss: 2.3165     \n",
      "Epoch 8/200\n",
      "101/101 [==============================] - 0s - loss: 2.2119     \n",
      "Epoch 9/200\n",
      "101/101 [==============================] - 0s - loss: 2.0843     \n",
      "Epoch 10/200\n",
      "101/101 [==============================] - 0s - loss: 1.9730     \n",
      "Epoch 11/200\n",
      "101/101 [==============================] - 0s - loss: 1.8705     \n",
      "Epoch 12/200\n",
      "101/101 [==============================] - 0s - loss: 1.7845     \n",
      "Epoch 13/200\n",
      "101/101 [==============================] - 0s - loss: 1.6941     \n",
      "Epoch 14/200\n",
      "101/101 [==============================] - 0s - loss: 1.6199     \n",
      "Epoch 15/200\n",
      "101/101 [==============================] - 0s - loss: 1.5501     \n",
      "Epoch 16/200\n",
      "101/101 [==============================] - 0s - loss: 1.4705     \n",
      "Epoch 17/200\n",
      "101/101 [==============================] - 0s - loss: 1.3977     \n",
      "Epoch 18/200\n",
      "101/101 [==============================] - 0s - loss: 1.3297     \n",
      "Epoch 19/200\n",
      "101/101 [==============================] - 0s - loss: 1.2644     \n",
      "Epoch 20/200\n",
      "101/101 [==============================] - 0s - loss: 1.1994     \n",
      "Epoch 21/200\n",
      "101/101 [==============================] - 0s - loss: 1.1345     \n",
      "Epoch 22/200\n",
      "101/101 [==============================] - 0s - loss: 1.0804     \n",
      "Epoch 23/200\n",
      "101/101 [==============================] - 0s - loss: 1.0306     \n",
      "Epoch 24/200\n",
      "101/101 [==============================] - 0s - loss: 0.9756     \n",
      "Epoch 25/200\n",
      "101/101 [==============================] - 0s - loss: 0.9291     \n",
      "Epoch 26/200\n",
      "101/101 [==============================] - 0s - loss: 0.8848     \n",
      "Epoch 27/200\n",
      "101/101 [==============================] - 0s - loss: 0.8432     \n",
      "Epoch 28/200\n",
      "101/101 [==============================] - 0s - loss: 0.8060     \n",
      "Epoch 29/200\n",
      "101/101 [==============================] - 0s - loss: 0.7712     \n",
      "Epoch 30/200\n",
      "101/101 [==============================] - 0s - loss: 0.7369     \n",
      "Epoch 31/200\n",
      "101/101 [==============================] - 0s - loss: 0.6997     \n",
      "Epoch 32/200\n",
      "101/101 [==============================] - 0s - loss: 0.6641     \n",
      "Epoch 33/200\n",
      "101/101 [==============================] - 0s - loss: 0.6357     \n",
      "Epoch 34/200\n",
      "101/101 [==============================] - 0s - loss: 0.6070     \n",
      "Epoch 35/200\n",
      "101/101 [==============================] - 0s - loss: 0.5783     \n",
      "Epoch 36/200\n",
      "101/101 [==============================] - 0s - loss: 0.5533     \n",
      "Epoch 37/200\n",
      "101/101 [==============================] - 0s - loss: 0.5285     \n",
      "Epoch 38/200\n",
      "101/101 [==============================] - 0s - loss: 0.5061     \n",
      "Epoch 39/200\n",
      "101/101 [==============================] - 0s - loss: 0.4839     \n",
      "Epoch 40/200\n",
      "101/101 [==============================] - 0s - loss: 0.4614     \n",
      "Epoch 41/200\n",
      "101/101 [==============================] - 0s - loss: 0.4424     \n",
      "Epoch 42/200\n",
      "101/101 [==============================] - 0s - loss: 0.4257     \n",
      "Epoch 43/200\n",
      "101/101 [==============================] - 0s - loss: 0.4073     \n",
      "Epoch 44/200\n",
      "101/101 [==============================] - 0s - loss: 0.3923     \n",
      "Epoch 45/200\n",
      "101/101 [==============================] - 0s - loss: 0.3775     \n",
      "Epoch 46/200\n",
      "101/101 [==============================] - 0s - loss: 0.3631     \n",
      "Epoch 47/200\n",
      "101/101 [==============================] - ETA: 0s - loss: 0.414 - 0s - loss: 0.3492     \n",
      "Epoch 48/200\n",
      "101/101 [==============================] - 0s - loss: 0.3359     \n",
      "Epoch 49/200\n",
      "101/101 [==============================] - 0s - loss: 0.3220     \n",
      "Epoch 50/200\n",
      "101/101 [==============================] - 0s - loss: 0.3109     \n",
      "Epoch 51/200\n",
      "101/101 [==============================] - 0s - loss: 0.2991     \n",
      "Epoch 52/200\n",
      "101/101 [==============================] - 0s - loss: 0.2894     \n",
      "Epoch 53/200\n",
      "101/101 [==============================] - 0s - loss: 0.2780     \n",
      "Epoch 54/200\n",
      "101/101 [==============================] - 0s - loss: 0.2698     \n",
      "Epoch 55/200\n",
      "101/101 [==============================] - 0s - loss: 0.2596     \n",
      "Epoch 56/200\n",
      "101/101 [==============================] - 0s - loss: 0.2507     \n",
      "Epoch 57/200\n",
      "101/101 [==============================] - 0s - loss: 0.2430     \n",
      "Epoch 58/200\n",
      "101/101 [==============================] - 0s - loss: 0.2349     \n",
      "Epoch 59/200\n",
      "101/101 [==============================] - 0s - loss: 0.2264     \n",
      "Epoch 60/200\n",
      "101/101 [==============================] - 0s - loss: 0.2209     \n",
      "Epoch 61/200\n",
      "101/101 [==============================] - 0s - loss: 0.2148     \n",
      "Epoch 62/200\n",
      "101/101 [==============================] - 0s - loss: 0.2097     \n",
      "Epoch 63/200\n",
      "101/101 [==============================] - ETA: 0s - loss: 0.131 - 0s - loss: 0.2034     \n",
      "Epoch 64/200\n",
      "101/101 [==============================] - 0s - loss: 0.1983     \n",
      "Epoch 65/200\n",
      "101/101 [==============================] - 0s - loss: 0.1928     \n",
      "Epoch 66/200\n",
      "101/101 [==============================] - 0s - loss: 0.1872     \n",
      "Epoch 67/200\n",
      "101/101 [==============================] - 0s - loss: 0.1826     \n",
      "Epoch 68/200\n",
      "101/101 [==============================] - 0s - loss: 0.1785     \n",
      "Epoch 69/200\n",
      "101/101 [==============================] - 0s - loss: 0.1747     \n",
      "Epoch 70/200\n",
      "101/101 [==============================] - 0s - loss: 0.1710     \n",
      "Epoch 71/200\n",
      "101/101 [==============================] - 0s - loss: 0.1676     \n",
      "Epoch 72/200\n",
      "101/101 [==============================] - 0s - loss: 0.1633     \n",
      "Epoch 73/200\n",
      "101/101 [==============================] - 0s - loss: 0.1601     \n",
      "Epoch 74/200\n",
      "101/101 [==============================] - 0s - loss: 0.1577     \n",
      "Epoch 75/200\n",
      "101/101 [==============================] - 0s - loss: 0.1554     \n",
      "Epoch 76/200\n",
      "101/101 [==============================] - 0s - loss: 0.1525     \n",
      "Epoch 77/200\n",
      "101/101 [==============================] - 0s - loss: 0.1499     \n",
      "Epoch 78/200\n",
      "101/101 [==============================] - 0s - loss: 0.1476     \n",
      "Epoch 79/200\n",
      "101/101 [==============================] - 0s - loss: 0.1446     \n",
      "Epoch 80/200\n",
      "101/101 [==============================] - 0s - loss: 0.1421     \n",
      "Epoch 81/200\n",
      "101/101 [==============================] - 0s - loss: 0.1404     \n",
      "Epoch 82/200\n",
      "101/101 [==============================] - 0s - loss: 0.1388     \n",
      "Epoch 83/200\n",
      "101/101 [==============================] - 0s - loss: 0.1365     \n",
      "Epoch 84/200\n",
      "101/101 [==============================] - 0s - loss: 0.1348     \n",
      "Epoch 85/200\n",
      "101/101 [==============================] - 0s - loss: 0.1329     \n",
      "Epoch 86/200\n",
      "101/101 [==============================] - 0s - loss: 0.1313     \n",
      "Epoch 87/200\n",
      "101/101 [==============================] - 0s - loss: 0.1298     \n",
      "Epoch 88/200\n",
      "101/101 [==============================] - 0s - loss: 0.1286     \n",
      "Epoch 89/200\n",
      "101/101 [==============================] - 0s - loss: 0.1272     \n",
      "Epoch 90/200\n",
      "101/101 [==============================] - 0s - loss: 0.1259     \n",
      "Epoch 91/200\n",
      "101/101 [==============================] - 0s - loss: 0.1246     \n",
      "Epoch 92/200\n",
      "101/101 [==============================] - 0s - loss: 0.1231     \n",
      "Epoch 93/200\n",
      "101/101 [==============================] - 0s - loss: 0.1221     \n",
      "Epoch 94/200\n",
      "101/101 [==============================] - 0s - loss: 0.1210     \n",
      "Epoch 95/200\n",
      "101/101 [==============================] - 0s - loss: 0.1201     \n",
      "Epoch 96/200\n",
      "101/101 [==============================] - 0s - loss: 0.1194     \n",
      "Epoch 97/200\n",
      "101/101 [==============================] - 0s - loss: 0.1185     \n",
      "Epoch 98/200\n",
      "101/101 [==============================] - 0s - loss: 0.1176     \n",
      "Epoch 99/200\n",
      "101/101 [==============================] - 0s - loss: 0.1169     \n",
      "Epoch 100/200\n",
      "101/101 [==============================] - 0s - loss: 0.1163     \n",
      "Epoch 101/200\n",
      "101/101 [==============================] - 0s - loss: 0.1153     \n",
      "Epoch 102/200\n",
      "101/101 [==============================] - 0s - loss: 0.1145     \n",
      "Epoch 103/200\n",
      "101/101 [==============================] - 0s - loss: 0.1138     \n",
      "Epoch 104/200\n"
     ]
    },
    {
     "name": "stdout",
     "output_type": "stream",
     "text": [
      "101/101 [==============================] - 0s - loss: 0.1133     \n",
      "Epoch 105/200\n",
      "101/101 [==============================] - 0s - loss: 0.1129     \n",
      "Epoch 106/200\n",
      "101/101 [==============================] - 0s - loss: 0.1122     \n",
      "Epoch 107/200\n",
      "101/101 [==============================] - 0s - loss: 0.1119     \n",
      "Epoch 108/200\n",
      "101/101 [==============================] - 0s - loss: 0.1117     \n",
      "Epoch 109/200\n",
      "101/101 [==============================] - 0s - loss: 0.1114     \n",
      "Epoch 110/200\n",
      "101/101 [==============================] - 0s - loss: 0.1111     \n",
      "Epoch 111/200\n",
      "101/101 [==============================] - 0s - loss: 0.1109     \n",
      "Epoch 112/200\n",
      "101/101 [==============================] - 0s - loss: 0.1105     \n",
      "Epoch 113/200\n",
      "101/101 [==============================] - 0s - loss: 0.1102     \n",
      "Epoch 114/200\n",
      "101/101 [==============================] - 0s - loss: 0.1098     \n",
      "Epoch 115/200\n",
      "101/101 [==============================] - 0s - loss: 0.1092     \n",
      "Epoch 116/200\n",
      "101/101 [==============================] - ETA: 0s - loss: 0.115 - 0s - loss: 0.1088     \n",
      "Epoch 117/200\n",
      "101/101 [==============================] - 0s - loss: 0.1084     \n",
      "Epoch 118/200\n",
      "101/101 [==============================] - 0s - loss: 0.1080     \n",
      "Epoch 119/200\n",
      "101/101 [==============================] - ETA: 0s - loss: 0.099 - 0s - loss: 0.1077     \n",
      "Epoch 120/200\n",
      "101/101 [==============================] - 0s - loss: 0.1076     \n",
      "Epoch 121/200\n",
      "101/101 [==============================] - 0s - loss: 0.1075     \n",
      "Epoch 122/200\n",
      "101/101 [==============================] - 0s - loss: 0.1072     \n",
      "Epoch 123/200\n",
      "101/101 [==============================] - 0s - loss: 0.1072     \n",
      "Epoch 124/200\n",
      "101/101 [==============================] - 0s - loss: 0.1070     \n",
      "Epoch 125/200\n",
      "101/101 [==============================] - 0s - loss: 0.1067     \n",
      "Epoch 126/200\n",
      "101/101 [==============================] - 0s - loss: 0.1065     \n",
      "Epoch 127/200\n",
      "101/101 [==============================] - 0s - loss: 0.1062     \n",
      "Epoch 128/200\n",
      "101/101 [==============================] - 0s - loss: 0.1061     \n",
      "Epoch 129/200\n",
      "101/101 [==============================] - 0s - loss: 0.1057     \n",
      "Epoch 130/200\n",
      "101/101 [==============================] - 0s - loss: 0.1057     \n",
      "Epoch 131/200\n",
      "101/101 [==============================] - 0s - loss: 0.1054     \n",
      "Epoch 132/200\n",
      "101/101 [==============================] - 0s - loss: 0.1054     \n",
      "Epoch 133/200\n",
      "101/101 [==============================] - 0s - loss: 0.1051     \n",
      "Epoch 134/200\n",
      "101/101 [==============================] - 0s - loss: 0.1049     \n",
      "Epoch 135/200\n",
      "101/101 [==============================] - 0s - loss: 0.1047     \n",
      "Epoch 136/200\n",
      "101/101 [==============================] - 0s - loss: 0.1046     \n",
      "Epoch 137/200\n",
      "101/101 [==============================] - 0s - loss: 0.1045     \n",
      "Epoch 138/200\n",
      "101/101 [==============================] - 0s - loss: 0.1044     \n",
      "Epoch 139/200\n",
      "101/101 [==============================] - 0s - loss: 0.1043     \n",
      "Epoch 140/200\n",
      "101/101 [==============================] - 0s - loss: 0.1043     \n",
      "Epoch 141/200\n",
      "101/101 [==============================] - 0s - loss: 0.1042     \n",
      "Epoch 142/200\n",
      "101/101 [==============================] - 0s - loss: 0.1042     \n",
      "Epoch 143/200\n",
      "101/101 [==============================] - 0s - loss: 0.1040     \n",
      "Epoch 144/200\n",
      "101/101 [==============================] - 0s - loss: 0.1040     \n",
      "Epoch 145/200\n",
      "101/101 [==============================] - 0s - loss: 0.1040     \n",
      "Epoch 146/200\n",
      "101/101 [==============================] - 0s - loss: 0.1039     \n",
      "Epoch 147/200\n",
      "101/101 [==============================] - 0s - loss: 0.1041     \n",
      "Epoch 148/200\n",
      "101/101 [==============================] - 0s - loss: 0.1037     \n",
      "Epoch 149/200\n",
      "101/101 [==============================] - 0s - loss: 0.1037     \n",
      "Epoch 150/200\n",
      "101/101 [==============================] - 0s - loss: 0.1036     \n",
      "Epoch 151/200\n",
      "101/101 [==============================] - 0s - loss: 0.1036     \n",
      "Epoch 152/200\n",
      "101/101 [==============================] - 0s - loss: 0.1036     \n",
      "Epoch 153/200\n",
      "101/101 [==============================] - 0s - loss: 0.1036     \n",
      "Epoch 154/200\n",
      "101/101 [==============================] - 0s - loss: 0.1035     \n",
      "Epoch 155/200\n",
      "101/101 [==============================] - 0s - loss: 0.1034     \n",
      "Epoch 156/200\n",
      "101/101 [==============================] - 0s - loss: 0.1034     \n",
      "Epoch 157/200\n",
      "101/101 [==============================] - 0s - loss: 0.1034     \n",
      "Epoch 158/200\n",
      "101/101 [==============================] - 0s - loss: 0.1032     \n",
      "Epoch 159/200\n",
      "101/101 [==============================] - 0s - loss: 0.1032     \n",
      "Epoch 160/200\n",
      "101/101 [==============================] - 0s - loss: 0.1033     \n",
      "Epoch 161/200\n",
      "101/101 [==============================] - 0s - loss: 0.1033     \n",
      "Epoch 162/200\n",
      "101/101 [==============================] - 0s - loss: 0.1032     \n",
      "Epoch 163/200\n",
      "101/101 [==============================] - 0s - loss: 0.1032     \n",
      "Epoch 164/200\n",
      "101/101 [==============================] - 0s - loss: 0.1031     \n",
      "Epoch 165/200\n",
      "101/101 [==============================] - 0s - loss: 0.1031     \n",
      "Epoch 166/200\n",
      "101/101 [==============================] - 0s - loss: 0.1031     \n",
      "Epoch 167/200\n",
      "101/101 [==============================] - 0s - loss: 0.1031     \n",
      "Epoch 168/200\n",
      "101/101 [==============================] - 0s - loss: 0.1032     \n",
      "Epoch 169/200\n",
      "101/101 [==============================] - 0s - loss: 0.1033     \n",
      "Epoch 170/200\n",
      "101/101 [==============================] - 0s - loss: 0.1031     \n",
      "Epoch 171/200\n",
      "101/101 [==============================] - 0s - loss: 0.1032     \n",
      "Epoch 172/200\n",
      "101/101 [==============================] - 0s - loss: 0.1030     \n",
      "Epoch 173/200\n",
      "101/101 [==============================] - 0s - loss: 0.1031     \n",
      "Epoch 174/200\n",
      "101/101 [==============================] - 0s - loss: 0.1030     \n",
      "Epoch 175/200\n",
      "101/101 [==============================] - 0s - loss: 0.1031     \n",
      "Epoch 176/200\n",
      "101/101 [==============================] - 0s - loss: 0.1029     \n",
      "Epoch 177/200\n",
      "101/101 [==============================] - 0s - loss: 0.1030     \n",
      "Epoch 178/200\n",
      "101/101 [==============================] - 0s - loss: 0.1030     \n",
      "Epoch 179/200\n",
      "101/101 [==============================] - 0s - loss: 0.1029     \n",
      "Epoch 180/200\n",
      "101/101 [==============================] - 0s - loss: 0.1029     \n",
      "Epoch 181/200\n",
      "101/101 [==============================] - 0s - loss: 0.1029     \n",
      "Epoch 182/200\n",
      "101/101 [==============================] - 0s - loss: 0.1030     \n",
      "Epoch 183/200\n",
      "101/101 [==============================] - 0s - loss: 0.1029     \n",
      "Epoch 184/200\n",
      "101/101 [==============================] - 0s - loss: 0.1029     \n",
      "Epoch 185/200\n",
      "101/101 [==============================] - 0s - loss: 0.1029     \n",
      "Epoch 186/200\n",
      "101/101 [==============================] - 0s - loss: 0.1029     \n",
      "Epoch 187/200\n",
      "101/101 [==============================] - 0s - loss: 0.1028     \n",
      "Epoch 188/200\n",
      "101/101 [==============================] - 0s - loss: 0.1028     \n",
      "Epoch 189/200\n",
      "101/101 [==============================] - 0s - loss: 0.1028     \n",
      "Epoch 190/200\n",
      "101/101 [==============================] - 0s - loss: 0.1029     \n",
      "Epoch 191/200\n",
      "101/101 [==============================] - 0s - loss: 0.1028     \n",
      "Epoch 192/200\n",
      "101/101 [==============================] - 0s - loss: 0.1028     \n",
      "Epoch 193/200\n",
      "101/101 [==============================] - 0s - loss: 0.1028     \n",
      "Epoch 194/200\n",
      "101/101 [==============================] - 0s - loss: 0.1028     \n",
      "Epoch 195/200\n",
      "101/101 [==============================] - 0s - loss: 0.1028     \n",
      "Epoch 196/200\n",
      "101/101 [==============================] - 0s - loss: 0.1028     \n",
      "Epoch 197/200\n",
      "101/101 [==============================] - 0s - loss: 0.1029     \n",
      "Epoch 198/200\n",
      "101/101 [==============================] - 0s - loss: 0.1027     \n",
      "Epoch 199/200\n",
      "101/101 [==============================] - 0s - loss: 0.1028     \n",
      "Epoch 200/200\n",
      "101/101 [==============================] - 0s - loss: 0.1027     \n"
     ]
    },
    {
     "data": {
      "text/plain": [
       "<keras.callbacks.History at 0x7fc62ab4d128>"
      ]
     },
     "execution_count": 18,
     "metadata": {},
     "output_type": "execute_result"
    }
   ],
   "source": [
    "# feed the data using fit function\n",
    "\n",
    "model.fit(trX, trY, nb_epoch=200, verbose=1)"
   ]
  },
  {
   "cell_type": "code",
   "execution_count": 19,
   "metadata": {},
   "outputs": [
    {
     "name": "stdout",
     "output_type": "stream",
     "text": [
      "Linear regression model is trained to have weight w: 3.00, b: 0.01\n"
     ]
    }
   ],
   "source": [
    "# print the weight after training\n",
    "\n",
    "weights = model.layers[0].get_weights()\n",
    "w_final = weights[0][0][0]\n",
    "b_final = weights[1][0]\n",
    "print('Linear regression model is trained to have weight w: %.2f, b: %.2f' % (w_final, b_final))\n",
    "     \n",
    "##Linear regression model is trained to have weight w: 2.94, b: 0.08"
   ]
  },
  {
   "cell_type": "code",
   "execution_count": 29,
   "metadata": {},
   "outputs": [
    {
     "name": "stdout",
     "output_type": "stream",
     "text": [
      "[array([[ 3.00013351]], dtype=float32), array([ 0.01157148], dtype=float32)]\n",
      "<class 'list'>\n",
      "2\n",
      "[[ 3.00013351]]\n",
      "(1, 1)\n",
      "[ 3.00013351]\n",
      "<class 'numpy.ndarray'>\n",
      "3.00013\n",
      "<class 'numpy.float32'>\n"
     ]
    }
   ],
   "source": [
    "print(weights)\n",
    "print(type(weights))\n",
    "print(len(weights))\n",
    "print(weights[0])\n",
    "print(weights[0].shape)\n",
    "print(weights[0][0])\n",
    "print(type(weights[0][0]))\n",
    "print(weights[0][0][0])\n",
    "print(type(weights[0][0][0]))"
   ]
  },
  {
   "cell_type": "code",
   "execution_count": null,
   "metadata": {
    "collapsed": true
   },
   "outputs": [],
   "source": []
  }
 ],
 "metadata": {
  "kernelspec": {
   "display_name": "Python 3",
   "language": "python",
   "name": "python3"
  },
  "language_info": {
   "codemirror_mode": {
    "name": "ipython",
    "version": 3
   },
   "file_extension": ".py",
   "mimetype": "text/x-python",
   "name": "python",
   "nbconvert_exporter": "python",
   "pygments_lexer": "ipython3",
   "version": "3.5.2"
  },
  "widgets": {
   "state": {},
   "version": "1.1.2"
  }
 },
 "nbformat": 4,
 "nbformat_minor": 2
}
